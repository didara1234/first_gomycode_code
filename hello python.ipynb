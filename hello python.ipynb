{
  "nbformat": 4,
  "nbformat_minor": 0,
  "metadata": {
    "colab": {
      "provenance": []
    },
    "kernelspec": {
      "name": "python3",
      "display_name": "Python 3"
    },
    "language_info": {
      "name": "python"
    }
  },
  "cells": [
    {
      "cell_type": "code",
      "execution_count": 1,
      "metadata": {
        "colab": {
          "base_uri": "https://localhost:8080/"
        },
        "id": "QrupfvBVkyao",
        "outputId": "37c63726-9b4d-4031-d868-84bcfb9f59a1"
      },
      "outputs": [
        {
          "output_type": "stream",
          "name": "stdout",
          "text": [
            "Welcome to python world! Let's start coding\n"
          ]
        }
      ],
      "source": [
        "print(\"Welcome to python world! Let's start coding\")"
      ]
    }
  ]
}