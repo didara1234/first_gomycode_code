{
  "nbformat": 4,
  "nbformat_minor": 0,
  "metadata": {
    "colab": {
      "provenance": [],
      "collapsed_sections": [],
      "authorship_tag": "ABX9TyPG+egcYuZnPjqP+iFzlKc9",
      "include_colab_link": true
    },
    "kernelspec": {
      "name": "python3",
      "display_name": "Python 3"
    },
    "language_info": {
      "name": "python"
    }
  },
  "cells": [
    {
      "cell_type": "markdown",
      "metadata": {
        "id": "view-in-github",
        "colab_type": "text"
      },
      "source": [
        "<a href=\"https://colab.research.google.com/github/didara1234/first_gomycode_code/blob/main/checkpoint2.ipynb\" target=\"_parent\"><img src=\"https://colab.research.google.com/assets/colab-badge.svg\" alt=\"Open In Colab\"/></a>"
      ]
    },
    {
      "cell_type": "code",
      "execution_count": null,
      "metadata": {
        "colab": {
          "base_uri": "https://localhost:8080/"
        },
        "id": "PFcqqv-GiyDz",
        "outputId": "4d4ba80c-ab69-492f-dc5c-2080381b1508"
      },
      "outputs": [
        {
          "output_type": "stream",
          "name": "stdout",
          "text": [
            "[2002, 2009, 2016, 2023, 2037, 2044, 2051, 2058, 2072, 2079, 2086, 2093, 2107, 2114, 2121, 2128, 2142, 2149, 2156, 2163, 2177, 2184, 2191, 2198, 2212, 2219, 2226, 2233, 2247, 2254, 2261, 2268, 2282, 2289, 2296, 2303, 2317, 2324, 2331, 2338, 2352, 2359, 2366, 2373, 2387, 2394, 2401, 2408, 2422, 2429, 2436, 2443, 2457, 2464, 2471, 2478, 2492, 2499, 2506, 2513, 2527, 2534, 2541, 2548, 2562, 2569, 2576, 2583, 2597, 2604, 2611, 2618, 2632, 2639, 2646, 2653, 2667, 2674, 2681, 2688, 2702, 2709, 2716, 2723, 2737, 2744, 2751, 2758, 2772, 2779, 2786, 2793, 2807, 2814, 2821, 2828, 2842, 2849, 2856, 2863, 2877, 2884, 2891, 2898, 2912, 2919, 2926, 2933, 2947, 2954, 2961, 2968, 2982, 2989, 2996, 3003, 3017, 3024, 3031, 3038, 3052, 3059, 3066, 3073, 3087, 3094, 3101, 3108, 3122, 3129, 3136, 3143, 3157, 3164, 3171, 3178, 3192, 3199]\n"
          ]
        }
      ],
      "source": [
        "mylist=[]\n",
        "for x in range(2000,3200,1):\n",
        "  if ((x%7 == 0) and (x%5 != 0)):\n",
        "    mylist.append(x)\n",
        "print(mylist)   \n",
        "    "
      ]
    },
    {
      "cell_type": "code",
      "source": [
        "x =int(input())\n",
        "y =1 \n",
        "while x>0:\n",
        "  y = y * x\n",
        "  x-=1\n",
        "print(y) "
      ],
      "metadata": {
        "colab": {
          "base_uri": "https://localhost:8080/"
        },
        "id": "l4mxqbGFnbOO",
        "outputId": "e1ff0ae6-a122-45dd-ae1c-86e766dd75fa"
      },
      "execution_count": null,
      "outputs": [
        {
          "output_type": "stream",
          "name": "stdout",
          "text": [
            "5\n",
            "120\n"
          ]
        }
      ]
    },
    {
      "cell_type": "code",
      "source": [
        "x = int(input())\n",
        "y=1\n",
        "dictionary={}\n",
        "for x in range (y,x+1):\n",
        "  dictionary[y]=y*y\n",
        "  y+=1\n",
        "print(dictionary) "
      ],
      "metadata": {
        "colab": {
          "base_uri": "https://localhost:8080/"
        },
        "id": "jFMsXjn7y1oQ",
        "outputId": "1bb5a568-1142-4e96-f390-62956f9156c1"
      },
      "execution_count": null,
      "outputs": [
        {
          "output_type": "stream",
          "name": "stdout",
          "text": [
            "5\n",
            "{1: 1, 2: 4, 3: 9, 4: 16, 5: 25}\n"
          ]
        }
      ]
    },
    {
      "cell_type": "code",
      "source": [
        "x =input()\n",
        "list1=[]\n",
        "for y in x:\n",
        "  list1.append(y)\n",
        "print(list1)\n",
        "c = int(input())\n",
        "del list1 [c]\n",
        "print(list1)"
      ],
      "metadata": {
        "colab": {
          "base_uri": "https://localhost:8080/"
        },
        "id": "ALsDdR72BIc8",
        "outputId": "8e7a6b72-9b20-4482-f1ca-748547abea77"
      },
      "execution_count": null,
      "outputs": [
        {
          "output_type": "stream",
          "name": "stdout",
          "text": [
            "kitten\n",
            "['k', 'i', 't', 't', 'e', 'n']\n",
            "2\n",
            "['k', 'i', 't', 'e', 'n']\n"
          ]
        }
      ]
    },
    {
      "cell_type": "code",
      "source": [
        "import numpy as np\n",
        "b=np.array([[1,2,3],[4,5,6]])\n",
        "print(b)\n",
        "list1 = b.tolist()\n",
        "print(list1)"
      ],
      "metadata": {
        "id": "bd0zPRmNDKf2",
        "colab": {
          "base_uri": "https://localhost:8080/"
        },
        "outputId": "99199f96-3457-4f11-ee86-1aaa3e9a2b79"
      },
      "execution_count": null,
      "outputs": [
        {
          "output_type": "stream",
          "name": "stdout",
          "text": [
            "[[1 2 3]\n",
            " [4 5 6]]\n",
            "[[1, 2, 3], [4, 5, 6]]\n"
          ]
        }
      ]
    },
    {
      "cell_type": "code",
      "source": [
        "import numpy as np\n",
        "array1=np.array([2,1,0])\n",
        "array2=np.array([0,1,2])\n",
        "x = np.cov(array1,array2)\n",
        "print(x)"
      ],
      "metadata": {
        "colab": {
          "base_uri": "https://localhost:8080/"
        },
        "id": "VqrFCmN6it93",
        "outputId": "7cec8625-bf0c-4909-9682-65f7aeeb44bc"
      },
      "execution_count": null,
      "outputs": [
        {
          "output_type": "stream",
          "name": "stdout",
          "text": [
            "[[ 1. -1.]\n",
            " [-1.  1.]]\n"
          ]
        }
      ]
    },
    {
      "cell_type": "code",
      "source": [
        "import numpy as np\n",
        "import math\n",
        "list1 = []\n",
        "c = 50\n",
        "h = 30\n",
        "d = input().split(\",\")\n",
        "\n",
        "for d in d:\n",
        "  Q = math.sqrt((2*c*int(d))/h)\n",
        "  list1.append(math.floor(Q))\n",
        "print(list1)"
      ],
      "metadata": {
        "id": "RfZu7tQW7ehb",
        "colab": {
          "base_uri": "https://localhost:8080/"
        },
        "outputId": "4fc22ced-a666-4919-c1ce-5b329484dce9"
      },
      "execution_count": 6,
      "outputs": [
        {
          "output_type": "stream",
          "name": "stdout",
          "text": [
            "100,150,180\n",
            "[18, 22, 24]\n"
          ]
        }
      ]
    }
  ]
}